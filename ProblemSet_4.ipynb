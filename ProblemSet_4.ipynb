{
 "cells": [
  {
   "cell_type": "markdown",
   "metadata": {},
   "source": [
    "# Problem Set 4"
   ]
  },
  {
   "cell_type": "markdown",
   "metadata": {},
   "source": [
    "<b>1. Describe the data.</b>\n",
    "\n",
    "Write a metadata document that describes the source of the data, what the data are, what each column is, etc."
   ]
  },
  {
   "cell_type": "markdown",
   "metadata": {},
   "source": [
    "I actually auto-generated these data by using the service from http://www.generatedata.com/.\n",
    "\n",
    "This is a file containing information of the previous employees of a company.\n",
    "\n",
    "The columns in the dataset are in the table below:\n",
    "\n",
    "\n",
    "|Column header            |Description   |\n",
    "|-------------------------|--------------|\n",
    "| Name                    |Name of the previous employee |\n",
    "| DateStart               |The start date of the employment|\n",
    "| DateEne                 |The end date of the employment|\n",
    "| Origin                  |The city name of the person|\n",
    "| Email                   |The email for contact |\n",
    "| Phone                   |The Phone number of the person|\n",
    "| EmployeeNo              |The employee number assiged to this person|"
   ]
  },
  {
   "cell_type": "markdown",
   "metadata": {},
   "source": [
    "<b>2) Normalize the data. </b>\n",
    "\n",
    "Write descriptions (words, drawings, or tables are fine--not code at this point) of the tables you could use to normalize these data. Describe why you chose the normalize the data in this manner. Include the column names, data types for each column, primary and foreign keys you would use. (8pts.)"
   ]
  },
  {
   "cell_type": "markdown",
   "metadata": {},
   "source": [
    "The dataset has records of some previous employees and some personal contact information of them. It can be used to reach a previous employee or keep tracks of the employment information of a company.\n",
    "\n",
    "The more informative columns to be kept are \"Name\",\"DateStart\",\"DateEnd\",\"Phone\" and \"EmployeeNo\".\n",
    "\n",
    "The Foreign key can be the \"EmployeeNo\" and the Primary key would be \"Name\"."
   ]
  },
  {
   "cell_type": "markdown",
   "metadata": {},
   "source": [
    "|Column header - Employee |Description   |\n",
    "|-------------------------|--------------|\n",
    "| Name(string)            |Name of the previous employee <b>(Primary Key)</b>|\n",
    "| DateStart(string)       |The start date of the employment|\n",
    "| DateEne(string)         |The end date of the employment|\n",
    "| Phone(string)           |The Phone number of the person|\n",
    "| EmployeeNo(Integer)     |The employee number assiged to this person <b>(Foreign Key)</b>|"
   ]
  },
  {
   "cell_type": "markdown",
   "metadata": {},
   "source": [
    "<b>3) Either directly in sqlite or in Python with SQLAlchemy, write the code needed to define the tables above. (6pts.)</b>"
   ]
  },
  {
   "cell_type": "code",
   "execution_count": 6,
   "metadata": {},
   "outputs": [],
   "source": [
    "from sqlalchemy import create_engine\n",
    "from sqlalchemy import Table, Column, Integer, String, MetaData, ForeignKey\n",
    "from sqlalchemy import DateTime, Boolean\n",
    "from sqlalchemy import exists\n",
    "from sqlalchemy import sql, select, join, desc\n",
    "\n",
    "# Create a sqlite database \n",
    "#engine = create_engine('sqlite:///SNP_problem4.sqlite')\n",
    "engine = create_engine('sqlite:///Employee_problem4.sqlite')\n",
    "\n",
    "metadata = MetaData(engine)\n",
    "\n",
    "# Try to load SNP50 info from database, if not there, create it.\n",
    "try:\n",
    "    Employee = Table('Employee', metadata, autoload=True)\n",
    "except:\n",
    "    Employee = Table ('Employee', metadata,\n",
    "                Column('Name', String,primary_key=True ),\n",
    "                Column('DateStart', String,),\n",
    "                Column('DateEnd', String),\n",
    "                Column('Phone', String),\n",
    "                Column('EmpolyeeNo', String,autoincrement=True)\n",
    "               )\n",
    "metadata.create_all(engine)"
   ]
  },
  {
   "cell_type": "markdown",
   "metadata": {},
   "source": [
    "<b>4) Write the code to load the data into the database.</b> (2pts) "
   ]
  },
  {
   "cell_type": "code",
   "execution_count": 3,
   "metadata": {},
   "outputs": [],
   "source": [
    "# Open to get Employee data\n",
    "import csv\n",
    "\n",
    "Employee = open(\"EmployeeData.csv\")\n",
    "\n",
    "conn = engine.connect()\n",
    "\n",
    "reader = csv.DictReader(Employee)\n",
    "\n",
    "for Line in reader:\n",
    "    try:\n",
    "        ins = Employee.insert().values(Name=Line['Name'],\n",
    "                                    DateStart = Line['DataStart'],\n",
    "                                    DateEnd = Line['DataEnd'],\n",
    "                                    Phone = Line['Phone'],\n",
    "                                    EmployeeNO = Line['EmployeeNO']\n",
    "                                           ) \n",
    "        result = conn.execute(ins)\n",
    "    except:\n",
    "        continue\n"
   ]
  },
  {
   "cell_type": "code",
   "execution_count": null,
   "metadata": {},
   "outputs": [],
   "source": [
    "from sqlalchemy import select\n",
    "\n",
    "query = select([Employee.c.Name, Employee.c.DateStart, Employee.c.DateEnd, Employee.c.Phone, Employee.c.EmployeeNO])\\\n",
    "        .order_by(Employee.c.Name)\\\n",
    "        .limit(15)\n",
    "             \n",
    "result = conn.execute(query)\n",
    "\n",
    "for row in result:\n",
    "    print(row)"
   ]
  },
  {
   "cell_type": "markdown",
   "metadata": {},
   "source": [
    "<b>**Extra Credit:** Find another dataset, briefly describe the dataset and columns. Briefly describe the tables you would use and how you would normalize these data. (2pts.) "
   ]
  },
  {
   "cell_type": "markdown",
   "metadata": {},
   "source": [
    "This is a file containing information of the final grades of students.\n",
    "\n",
    "The columns in the dataset are in the table below:\n",
    "\n",
    "\n",
    "|Column header            |Description   |\n",
    "|-------------------------|--------------|\n",
    "| Name                    |Name of the student |\n",
    "| ID                      |Student ID number|\n",
    "| Calculus                |The final grades of Calculus|\n",
    "| Chem                    |The final grades of Chemistry|\n",
    "| Writing                 |The final grades of Writing |\n",
    "| Year                    |The year of this student|\n",
    "\n",
    "\n",
    "The dataset has records of the final grades of students (2 and 3 year). Calculus Chemistry and Writing. It can be used to summarize the grades of students. The columns to be used are \"Name\",\"ID\",\"Calculus\",\"Chem\" and \"Writing\".\n",
    "\n",
    "The Foreign key can be the \"ID\" and the Primary key would be \"Name\".\n",
    "\n",
    "\n",
    "|Column header - Student  |Description   |\n",
    "|-------------------------|--------------|\n",
    "| Name                    |Name of the student <b>(Primary Key)</b>|\n",
    "| ID                      |Student ID number <b>(Foreign Key)</b>|\n",
    "| Calculus                |The final grades of Calculus|\n",
    "| Chem                    |The final grades of Chemistry|\n",
    "| Writing                 |The final grades of Writing |\n",
    "| Year                    |The year of this student|"
   ]
  }
 ],
 "metadata": {
  "kernelspec": {
   "display_name": "Python 3",
   "language": "python",
   "name": "python3"
  },
  "language_info": {
   "codemirror_mode": {
    "name": "ipython",
    "version": 3
   },
   "file_extension": ".py",
   "mimetype": "text/x-python",
   "name": "python",
   "nbconvert_exporter": "python",
   "pygments_lexer": "ipython3",
   "version": "3.7.0"
  }
 },
 "nbformat": 4,
 "nbformat_minor": 2
}
